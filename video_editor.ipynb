{
 "cells": [
  {
   "cell_type": "code",
   "execution_count": 1,
   "id": "6ffc2f33-9043-434b-8d10-d9f306b57f95",
   "metadata": {},
   "outputs": [
    {
     "name": "stderr",
     "output_type": "stream",
     "text": [
      "/opt/homebrew/lib/python3.10/site-packages/stable_whisper/whisper_word_level.py:234: UserWarning: FP16 is not supported on CPU; using FP32 instead\n",
      "  warnings.warn(\"FP16 is not supported on CPU; using FP32 instead\")\n",
      "Transcribe:   0%|                                                                                                                                                                                                                                            | 0/682.64 [00:00<?, ?sec/s]"
     ]
    },
    {
     "name": "stdout",
     "output_type": "stream",
     "text": [
      "Detected language: english\n"
     ]
    },
    {
     "name": "stderr",
     "output_type": "stream",
     "text": [
      "OMP: Info #276: omp_set_nested routine deprecated, please use omp_set_max_active_levels instead.\n",
      "Transcribe: 100%|███████████████████████████████████████████████████████████████████████████████████████████████████████████████████████████████████████████████████████████████████████████████████████████████████████████████████████████████| 682.64/682.64 [01:07<00:00, 10.08sec/s]\n"
     ]
    }
   ],
   "source": [
    "from utils.transcribe import transcribe\n",
    "\n",
    "input_path = \"input.mp4\"\n",
    "output_path = \"output.mp4\"\n",
    "\n",
    "transcription = transcribe(input_path)"
   ]
  },
  {
   "cell_type": "code",
   "execution_count": 2,
   "id": "1ea5525a-2449-4d9c-b833-aaa3998800db",
   "metadata": {
    "scrolled": true
   },
   "outputs": [],
   "source": [
    "transcription_dict = transcription.to_dict()\n",
    "segments = transcription_dict['segments']"
   ]
  },
  {
   "cell_type": "code",
   "execution_count": 4,
   "id": "9ac4dd4e-e314-466c-85e2-f0e37db6d192",
   "metadata": {},
   "outputs": [
    {
     "data": {
      "text/plain": [
       "[' Hey, radiance here.',\n",
       " ' Every app needs a popup dialog that is accessible, responsive and aesthetically pleasing.',\n",
       " ' However, we also wanted to be convenient to use for our developers.',\n",
       " ' In this video, I will share with you a minimalistic model component which I utilize in my projects and which does not require any component libraries.',\n",
       " ' You can find all the source code in the React Kit repository.',\n",
       " ' Before starting the implementation, we need to consider the requirements and use cases of the component, as well as what types,',\n",
       " ' before starting the implementation, we need to consider the requirements and use cases of the component,',\n",
       " ' as well as what props it should accept.',\n",
       " ' First, every model requires',\n",
       " ' a title and often add subtitle as well.',\n",
       " ' This would be typically streams, but',\n",
       " ' for',\n",
       " ' further customization,',\n",
       " \" we'll designate them as React node type.\",\n",
       " ' The component obviously needs to contain some content, so it should accept a children prop.',\n",
       " ' The user must be able to close the model thus necessitating M.',\n",
       " ' The user must be able to close the model thus necessitating an on-close callback.',\n",
       " ' For title, children and on-close props, I have reusable tasks because these props are used in various components in my projects.',\n",
       " ' Because models are typically centered on the screen.',\n",
       " ' So, for models,',\n",
       " ' also models are',\n",
       " ' typically centered on the screen,',\n",
       " ' there are times when a series of models are utilized.',\n",
       " ' Most often models are typically most open models centered on the screen.',\n",
       " ' However, there are times...',\n",
       " ' So, models',\n",
       " ' are',\n",
       " ' typically centered on the screen.',\n",
       " ' However, there are times when a series of models are utilized, or the height of the content inside of the model may change, and to prevent a jumpy fuel as users navigate between them, it may be preferable to position them at the top of the screen.',\n",
       " ' The beat prop allows customization of the model beat for content that needs most place than the default beat.',\n",
       " ' The final prop is the footer, which is kept as an extra-propersy rather than just incorporating it as a children, on account of the footer often containing buttons that should be positioned at the bottom of the screen.',\n",
       " ' Particularly when on mobile devices, where the model occupies the whole screen.',\n",
       " \" Here's an example of how one might use the component to display a step in a series of onboarding models.\",\n",
       " ' Will position it at the top provided title as side title as a react note for customization of part of the text, a footer with the continued button and children with the content.',\n",
       " ' You can notice that on my pilot screen, the model occupies the whole screen.',\n",
       " ' The heater with title, subtitle and closed button remains at the top, the footer with the continued button at the bottom.',\n",
       " ' In case of overflow, the content can scroll without disrupting the layout, keeping both heater and footer consistently visible.',\n",
       " ' To manage the open, closed state of the model, I habitually rely on the abstract opener component.',\n",
       " ' This is basically a wrapper around the used boolean hook.',\n",
       " ' This may be a matter of preference, but I found it more readable and comfortable than using the used state hook.',\n",
       " ' At the top of the component, followed by having the model at the bottom of the component as a condition, this may be a matter of preference, but I found it more readable and comfortable than using the used state hook at the top of the component, followed by having the model at the bottom of the component as a condition.',\n",
       " ' and comfortable than using the use state hook at the top of the component,',\n",
       " ' followed by having the model as a conditional renderer.',\n",
       " \" Now let's delve into the model implementation.\",\n",
       " ' First we need to determine whether to display the model as a pop-up or a full screen view.',\n",
       " ' This is why we have a',\n",
       " ' use screen width that then hook.',\n",
       " ' When the scenario with the model width is 400 pixels and the screen width is 1000 pixels,',\n",
       " ' we display the model as a pop-up.',\n",
       " ' However, if the screen width is 500 pixels, then the 50 pixel free space on either side of the model would make it.',\n",
       " ' However, if the screen',\n",
       " ' width is 500 pixels,',\n",
       " ' then the 50 pixels free space on either side of the model would make it look strange.',\n",
       " ' So we opt to',\n",
       " ' display it as a full screen view.',\n",
       " ' The use screen width let then hook is a simple wrapper around the use media hook from the reactious library, which returns to a false depending on the media.',\n",
       " ' The two size unit function is a helper function that converts any given number to a pixel string if the provided value is a number.',\n",
       " ' To close the model on an escape case, we use to close the model on an escape case.',\n",
       " ' We use the use key hook from the reactious library.',\n",
       " ' We render the model in the body element instead of being a child of the component that opens it to avoid UI bugs due to parent position.',\n",
       " \" The body portal isn't wrapper around the use body hook.\",\n",
       " ' We maintain a state for the body element and use the use is a morphically out effect hook to set the body value on the first renderer.',\n",
       " ' To blur the rest of the screen when the model is open, we utilize the complete miscomponent.',\n",
       " ' It is a fixed element that occupied the entire space and centers content inside.',\n",
       " ' We also use the backdrop filter to blur the screen.',\n",
       " ' We pass the content behind the model.',\n",
       " ' We pass on close to the complete mis-on-click.',\n",
       " ' We pass on',\n",
       " ' close to the complete mis-on-click to close the model when the user clicks outside of the model.',\n",
       " ' In order to make the model accessible and keep top focus within it, we use the focus strap component.',\n",
       " ' It implores the focus strap react library and while we could have used it directly in the model without creating any of the user clicks.',\n",
       " ' In order to create an edit-cated focus strap component, I prefer to create a wrapper around it with a limited API considering I might replay the library in the future.',\n",
       " ' Next, we have the model container component.',\n",
       " ' It is a styled component that accepts an optional beat parameter and placement problem.',\n",
       " ' We make the container a flexible element and base on the presence of wheat.',\n",
       " ' We either make it occupied a whole space or set a specific beat.',\n",
       " ' If the model should be placed in the model, we can use the model to create a new model.',\n",
       " ' We place at the top, we set the top margin and align itself to start to make it stick to the top of the screen.',\n",
       " ' The component',\n",
       " ' does not have padding, but all of it should have 24 pixel padding.',\n",
       " ' This ensures that if the content is scrollable, the scroll bar will appear at the edge of the model and not 20...',\n",
       " ' This ensures that if the content is scrollable, the scroll bar will appear at the...',\n",
       " ' ...the',\n",
       " ' edge',\n",
       " ' of the model and not 24 pixels from the edge.',\n",
       " ' We also pass to the model container on...',\n",
       " ' We also pass to the model container and on-click...',\n",
       " ' ...hander that prevents the execution of the...',\n",
       " ' ...on-click event of the complete...',\n",
       " ' ...miscomponent.',\n",
       " ' They are by preventing the model from closing when the user clicks inside of it.',\n",
       " ' The stop propagation function is a...',\n",
       " ' ...helper that accepts an optional hender and returns another...',\n",
       " ' ...hander which stops the propagation of the event...',\n",
       " ' ...and calls the handler if provided.',\n",
       " ' The first child inside of the container...',\n",
       " ' ...is the heater, which displays the title...',\n",
       " ' ...and the close button in the first row...',\n",
       " \" ...and the subtitle in the second row, if it's provided.\",\n",
       " ' Both the model title...',\n",
       " ' ...titletails and model subtitle...',\n",
       " ' ...tails are text wrappers with style customization.',\n",
       " ' We render them as deep elements so that any content...',\n",
       " ' ...can be passed to them.',\n",
       " ' The model close button is built upon the...',\n",
       " ' ...hoverable component to a hover effect...',\n",
       " ' ...that goes beyond the borders of it.',\n",
       " ' The model close button...',\n",
       " ' ...is built upon the...',\n",
       " ' ...hoverable component to add a hover effect...',\n",
       " ' ...that goes beyond the borders of the...',\n",
       " ' ...end...',\n",
       " ' ...insuring the close icon aligns with the content.',\n",
       " ' We achieve this effect in the...',\n",
       " ' ...hoverable component by making the...',\n",
       " ' ...hoverable component absorbed.',\n",
       " ' We make the model...',\n",
       " ' ...contained a...',\n",
       " ' ...copy all available space...',\n",
       " ' ...and set overflow...',\n",
       " ' and set overflow y to make it scrollable in case of overflow.',\n",
       " \" That's all if you find some.\",\n",
       " \" That's all if you\",\n",
       " ' find this.',\n",
       " \" That's all if you found this model breakdown.\",\n",
       " \" That's all if you found this model breakdown useful please like and subscribe.\"]"
      ]
     },
     "execution_count": 4,
     "metadata": {},
     "output_type": "execute_result"
    }
   ],
   "source": [
    "[s['text'] for s in segments]"
   ]
  },
  {
   "cell_type": "code",
   "execution_count": null,
   "id": "cd8849dc-52c6-4937-96db-a41708dc824d",
   "metadata": {},
   "outputs": [],
   "source": [
    "final_intervals = [(d['start'], d['end']) for d in segments]"
   ]
  },
  {
   "cell_type": "code",
   "execution_count": 8,
   "id": "b0e420b7-bf8e-40d1-8ed4-d8e1e0cdb6b1",
   "metadata": {},
   "outputs": [
    {
     "name": "stdout",
     "output_type": "stream",
     "text": [
      "30.0\n",
      "Moviepy - Building video output.mp4.\n",
      "MoviePy - Writing audio in outputTEMP_MPY_wvf_snd.mp3\n"
     ]
    },
    {
     "name": "stderr",
     "output_type": "stream",
     "text": [
      "                                                                                                                                                                                                                                                                                   \r"
     ]
    },
    {
     "name": "stdout",
     "output_type": "stream",
     "text": [
      "MoviePy - Done.\n",
      "Moviepy - Writing video output.mp4\n",
      "\n"
     ]
    },
    {
     "name": "stderr",
     "output_type": "stream",
     "text": [
      "                                                                                                                                                                                                                                                                                   \r"
     ]
    },
    {
     "name": "stdout",
     "output_type": "stream",
     "text": [
      "Moviepy - Done !\n",
      "Moviepy - video ready output.mp4\n"
     ]
    }
   ],
   "source": [
    "from utils.trim_video import trim_video\n",
    "\n",
    "trim_video(input_path, output_path, final_intervals)"
   ]
  },
  {
   "cell_type": "code",
   "execution_count": null,
   "id": "dcb1c3fb-25bf-405d-9b81-190b56e640dc",
   "metadata": {},
   "outputs": [],
   "source": []
  }
 ],
 "metadata": {
  "kernelspec": {
   "display_name": "Python 3 (ipykernel)",
   "language": "python",
   "name": "python3"
  },
  "language_info": {
   "codemirror_mode": {
    "name": "ipython",
    "version": 3
   },
   "file_extension": ".py",
   "mimetype": "text/x-python",
   "name": "python",
   "nbconvert_exporter": "python",
   "pygments_lexer": "ipython3",
   "version": "3.10.9"
  }
 },
 "nbformat": 4,
 "nbformat_minor": 5
}
